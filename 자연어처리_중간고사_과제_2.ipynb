{
  "nbformat": 4,
  "nbformat_minor": 0,
  "metadata": {
    "colab": {
      "provenance": [],
      "gpuType": "T4",
      "authorship_tag": "ABX9TyPL2W+gztUfSwRNfusQjIIg",
      "include_colab_link": true
    },
    "kernelspec": {
      "name": "python3",
      "display_name": "Python 3"
    },
    "language_info": {
      "name": "python"
    },
    "accelerator": "GPU"
  },
  "cells": [
    {
      "cell_type": "markdown",
      "metadata": {
        "id": "view-in-github",
        "colab_type": "text"
      },
      "source": [
        "<a href=\"https://colab.research.google.com/github/leejunho12316/NLP-study/blob/main/%EC%9E%90%EC%97%B0%EC%96%B4%EC%B2%98%EB%A6%AC_%EC%A4%91%EA%B0%84%EA%B3%A0%EC%82%AC_%EA%B3%BC%EC%A0%9C_2.ipynb\" target=\"_parent\"><img src=\"https://colab.research.google.com/assets/colab-badge.svg\" alt=\"Open In Colab\"/></a>"
      ]
    },
    {
      "cell_type": "code",
      "execution_count": 1,
      "metadata": {
        "id": "TDAv2icENet0"
      },
      "outputs": [],
      "source": [
        "from tensorflow.keras.datasets import reuters\n",
        "import numpy as np"
      ]
    },
    {
      "cell_type": "markdown",
      "source": [
        "#1. 데이터 준비"
      ],
      "metadata": {
        "id": "7Mk0KrmxOEc0"
      }
    },
    {
      "cell_type": "code",
      "source": [
        "num_words = 2000 #단어 빈도수 높은 n개만 가져옵니다\n",
        "(x_train, y_train), (x_test, y_test) = reuters.load_data(num_words=num_words, test_split=0.2)"
      ],
      "metadata": {
        "id": "1r0txwnGNhgl"
      },
      "execution_count": 89,
      "outputs": []
    },
    {
      "cell_type": "markdown",
      "source": [
        "#2. 데이터 탐색"
      ],
      "metadata": {
        "id": "B0k8ezKqOBbP"
      }
    },
    {
      "cell_type": "code",
      "source": [
        "#1행짜리 리스트 여러개로 이루어져 있다.\n",
        "x_train"
      ],
      "metadata": {
        "colab": {
          "base_uri": "https://localhost:8080/"
        },
        "id": "l5SHdDCAN6Oy",
        "outputId": "b8904a91-2359-4712-de34-3b15d8d551c7"
      },
      "execution_count": 90,
      "outputs": [
        {
          "output_type": "execute_result",
          "data": {
            "text/plain": [
              "array([list([1, 2, 2, 8, 43, 10, 447, 5, 25, 207, 270, 5, 2, 111, 16, 369, 186, 90, 67, 7, 89, 5, 19, 102, 6, 19, 124, 15, 90, 67, 84, 22, 482, 26, 7, 48, 4, 49, 8, 864, 39, 209, 154, 6, 151, 6, 83, 11, 15, 22, 155, 11, 15, 7, 48, 9, 2, 1005, 504, 6, 258, 6, 272, 11, 15, 22, 134, 44, 11, 15, 16, 8, 197, 1245, 90, 67, 52, 29, 209, 30, 32, 132, 6, 109, 15, 17, 12]),\n",
              "       list([1, 2, 699, 2, 2, 56, 2, 2, 9, 56, 2, 1073, 81, 5, 1198, 57, 366, 737, 132, 20, 2, 7, 2, 49, 2, 2, 1037, 2, 699, 2, 8, 7, 10, 241, 16, 855, 129, 231, 783, 5, 4, 587, 2, 2, 2, 775, 7, 48, 34, 191, 44, 35, 1795, 505, 17, 12]),\n",
              "       list([1, 53, 12, 284, 15, 14, 272, 26, 53, 959, 32, 818, 15, 14, 272, 26, 39, 684, 70, 11, 14, 12, 2, 18, 180, 183, 187, 70, 11, 14, 102, 32, 11, 29, 53, 44, 704, 15, 14, 19, 758, 15, 53, 959, 47, 1013, 15, 14, 19, 132, 15, 39, 965, 32, 11, 14, 147, 72, 11, 180, 183, 187, 44, 11, 14, 102, 19, 11, 123, 186, 90, 67, 960, 4, 78, 13, 68, 467, 511, 110, 59, 89, 90, 67, 1390, 55, 2, 92, 617, 80, 1274, 46, 905, 220, 13, 4, 346, 48, 235, 629, 5, 211, 5, 1118, 7, 2, 81, 5, 187, 11, 15, 9, 1709, 201, 5, 47, 2, 18, 478, 2, 5, 1118, 7, 232, 2, 71, 5, 160, 63, 11, 9, 2, 81, 5, 102, 59, 11, 17, 12]),\n",
              "       ...,\n",
              "       list([1, 141, 2, 387, 81, 8, 16, 1629, 10, 340, 1241, 850, 31, 56, 2, 691, 9, 1241, 71, 9, 2, 2, 2, 699, 2, 2, 2, 699, 244, 2, 4, 49, 8, 4, 656, 850, 33, 2, 9, 2, 340, 2, 1493, 9, 2, 22, 2, 1094, 687, 83, 35, 15, 257, 6, 57, 2, 7, 4, 2, 654, 5, 2, 2, 1371, 4, 49, 8, 16, 369, 646, 6, 1076, 7, 124, 407, 17, 12]),\n",
              "       list([1, 53, 46, 957, 26, 14, 74, 132, 26, 39, 46, 258, 2, 18, 14, 74, 134, 2, 18, 88, 2, 72, 11, 14, 1842, 32, 11, 123, 383, 89, 39, 46, 235, 10, 864, 728, 5, 258, 44, 11, 15, 22, 753, 9, 42, 92, 131, 728, 5, 69, 312, 11, 15, 22, 222, 2, 2, 383, 48, 39, 74, 235, 10, 864, 276, 5, 61, 32, 11, 15, 21, 4, 211, 5, 126, 1072, 42, 92, 131, 46, 19, 352, 11, 15, 22, 710, 220, 9, 42, 92, 131, 276, 5, 59, 61, 11, 15, 22, 10, 455, 7, 1172, 137, 336, 1325, 6, 1532, 142, 971, 2, 43, 359, 5, 4, 326, 753, 364, 17, 12]),\n",
              "       list([1, 227, 2, 91, 2, 125, 2, 21, 4, 2, 76, 7, 4, 757, 481, 2, 790, 2, 2, 9, 111, 149, 8, 7, 10, 76, 223, 51, 4, 417, 8, 1047, 91, 2, 1688, 340, 7, 194, 2, 6, 1894, 21, 127, 2, 2, 1456, 6, 2, 4, 329, 433, 7, 65, 87, 1127, 10, 2, 1475, 290, 9, 21, 567, 16, 1926, 24, 4, 76, 209, 30, 2, 2, 2, 8, 4, 60, 8, 4, 966, 308, 40, 2, 129, 2, 295, 277, 1071, 9, 24, 286, 2, 234, 222, 9, 4, 906, 2, 2, 114, 2, 1752, 7, 4, 113, 17, 12])],\n",
              "      dtype=object)"
            ]
          },
          "metadata": {},
          "execution_count": 90
        }
      ]
    },
    {
      "cell_type": "code",
      "source": [
        "#x_train의 label들로 이루어져있다.\n",
        "y_train"
      ],
      "metadata": {
        "colab": {
          "base_uri": "https://localhost:8080/"
        },
        "id": "spXlAE8dPWXS",
        "outputId": "0da0d757-492b-447a-dace-d467029b63c9"
      },
      "execution_count": 91,
      "outputs": [
        {
          "output_type": "execute_result",
          "data": {
            "text/plain": [
              "array([ 3,  4,  3, ..., 25,  3, 25])"
            ]
          },
          "metadata": {},
          "execution_count": 91
        }
      ]
    },
    {
      "cell_type": "code",
      "source": [
        "print(\"-----x_train-----\")\n",
        "print(\"shape : \", x_train.shape)\n",
        "print(\"data type : \", x_train.dtype)\n",
        "print(\"data[0] type : \", type(x_train[0]))\n",
        "print(\"x_train 각 list들의 길이 : \", [len(x_train[i]) for i in range(0,100)])\n",
        "print('뉴스 기사의 최대 길이 :{}'.format(max(len(sample) for sample in x_train)))\n",
        "print('뉴스 기사의 평균 길이 :{}'.format(sum(map(len, x_train))/len(x_train)))\n",
        "\n",
        "print(\"\\n-----y_train-----\")\n",
        "print(\"shape : \", y_train.shape)\n",
        "print(\"data type : \", y_train.dtype)\n",
        "print(\"data[0] type : \", y_train[0].dtype)\n",
        "print(\"라벨 값 전체 : \", np.unique(y_train))\n",
        "\n",
        "print(\"\\n-----Data Example-----\")\n",
        "print(\"x Data : \", x_train[0])\n",
        "print(\"y Data : \", y_train[0])"
      ],
      "metadata": {
        "colab": {
          "base_uri": "https://localhost:8080/"
        },
        "id": "_7AOT1M6OHYh",
        "outputId": "128262e4-d7c9-4444-869f-051851ae56e9"
      },
      "execution_count": 92,
      "outputs": [
        {
          "output_type": "stream",
          "name": "stdout",
          "text": [
            "-----x_train-----\n",
            "shape :  (8982,)\n",
            "data type :  object\n",
            "data[0] type :  <class 'list'>\n",
            "x_train 각 list들의 길이 :  [87, 56, 139, 224, 101, 116, 100, 100, 82, 106, 31, 59, 65, 316, 527, 76, 114, 17, 91, 77, 231, 108, 83, 29, 95, 110, 23, 373, 114, 354, 133, 222, 571, 155, 83, 208, 170, 269, 74, 19, 23, 78, 21, 377, 104, 299, 89, 56, 94, 139, 118, 36, 137, 107, 83, 66, 70, 112, 88, 51, 83, 123, 17, 185, 84, 52, 102, 73, 106, 486, 107, 82, 263, 172, 491, 190, 143, 62, 26, 88, 114, 38, 85, 112, 793, 104, 25, 21, 101, 28, 25, 81, 135, 73, 62, 18, 90, 266, 91, 64]\n",
            "뉴스 기사의 최대 길이 :2376\n",
            "뉴스 기사의 평균 길이 :145.5398574927633\n",
            "\n",
            "-----y_train-----\n",
            "shape :  (8982,)\n",
            "data type :  int64\n",
            "data[0] type :  int64\n",
            "라벨 값 전체 :  [ 0  1  2  3  4  5  6  7  8  9 10 11 12 13 14 15 16 17 18 19 20 21 22 23\n",
            " 24 25 26 27 28 29 30 31 32 33 34 35 36 37 38 39 40 41 42 43 44 45]\n",
            "\n",
            "-----Data Example-----\n",
            "x Data :  [1, 2, 2, 8, 43, 10, 447, 5, 25, 207, 270, 5, 2, 111, 16, 369, 186, 90, 67, 7, 89, 5, 19, 102, 6, 19, 124, 15, 90, 67, 84, 22, 482, 26, 7, 48, 4, 49, 8, 864, 39, 209, 154, 6, 151, 6, 83, 11, 15, 22, 155, 11, 15, 7, 48, 9, 2, 1005, 504, 6, 258, 6, 272, 11, 15, 22, 134, 44, 11, 15, 16, 8, 197, 1245, 90, 67, 52, 29, 209, 30, 32, 132, 6, 109, 15, 17, 12]\n",
            "y Data :  3\n"
          ]
        }
      ]
    },
    {
      "cell_type": "markdown",
      "source": [
        "#2-1 reuter 데이터 index->word 변환해보기"
      ],
      "metadata": {
        "id": "vWT6dihu6WeM"
      }
    },
    {
      "cell_type": "code",
      "source": [
        "#reuter에서 word, index 매치쌍 가지고있는 데이터\n",
        "word_to_index = reuters.get_word_index()\n",
        "\n",
        "index_to_word = {}\n",
        "for key, val in word_to_index.items():\n",
        "  index_to_word[val+3] = key"
      ],
      "metadata": {
        "id": "mwZ6AYK5my2X"
      },
      "execution_count": 93,
      "outputs": []
    },
    {
      "cell_type": "code",
      "source": [
        "#pad 패딩 sos 문장의 시작 unk\n",
        "for index, token in enumerate((\"<pad>\", \"<sos>\", \"<unk>\")):\n",
        "  index_to_word[index] = token\n",
        "\n",
        "print(' '.join([index_to_word[index] for index in x_train[0]]))"
      ],
      "metadata": {
        "colab": {
          "base_uri": "https://localhost:8080/"
        },
        "id": "p2Eof45Rn_Pv",
        "outputId": "f1dd41c1-86d9-4a83-bd23-443b9d25c679"
      },
      "execution_count": 94,
      "outputs": [
        {
          "output_type": "stream",
          "name": "stdout",
          "text": [
            "<sos> <unk> <unk> said as a result of its december acquisition of <unk> co it expects earnings per share in 1987 of 1 15 to 1 30 dlrs per share up from 70 cts in 1986 the company said pretax net should rise to nine to 10 mln dlrs from six mln dlrs in 1986 and <unk> operation revenues to 19 to 22 mln dlrs from 12 5 mln dlrs it said cash flow per share this year should be 2 50 to three dlrs reuter 3\n"
          ]
        }
      ]
    },
    {
      "cell_type": "code",
      "source": [
        "for i in range(0, 100, 10):\n",
        "    print(y_test[i:i+10])\n",
        "\n",
        "for i,j in [(1,2),(3,0),(4,3),(5,10),(8,20),(9,24),(10,1),(11,15),(19,18),(23,16)]:\n",
        "  print(\"카테고리 : \", i)\n",
        "  print(' '.join([index_to_word[index] for index in x_train[j]]))\n",
        "\n",
        "'''카테고리 : index\n",
        "1 : 2\n",
        "3 : 0\n",
        "4 : 3\n",
        "5: 10\n",
        "8 : 20\n",
        "9 : 24\n",
        "10 : 1\n",
        "11 : 15\n",
        "19 : 18\n",
        "23 : 16\n",
        "'''"
      ],
      "metadata": {
        "colab": {
          "base_uri": "https://localhost:8080/",
          "height": 600
        },
        "id": "47c_xbPY6eBd",
        "outputId": "37b1a360-237d-49d0-aa56-6aad305046f5"
      },
      "execution_count": 95,
      "outputs": [
        {
          "output_type": "stream",
          "name": "stdout",
          "text": [
            "[ 3 10  1  4  4  3  3  3  3  3]\n",
            "[ 5  4  1  3  1 11 23  3 19  3]\n",
            "[ 8  3  3  3  9  3  4  6 10  3]\n",
            "[ 3 10 20  1 19  4 40  1  4  3]\n",
            "[15 21  3 34  4  4  3  4  3 11]\n",
            "[20  3  1  3  3  4 26  4 20 19]\n",
            "[4 3 4 4 4 3 3 1 3 4]\n",
            "[21 16  3 19 43  2  1  3 39  4]\n",
            "[ 3  3  3 11 19 20  1 11  4  3]\n",
            "[ 3  4  3  4  3 11 11  3 20 28]\n",
            "카테고리 :  1\n",
            "<sos> shr 3 28 dlrs vs 22 cts shr diluted 2 99 dlrs vs 22 cts net 46 0 mln vs 3 <unk> 000 avg shrs 14 0 mln vs 15 2 mln year shr 5 41 dlrs vs 1 56 dlrs shr diluted 4 94 dlrs vs 1 50 dlrs net 78 2 mln vs 25 9 mln avg shrs 14 5 mln vs 15 1 mln note earnings per share reflect the two for one split effective january 6 1987 per share amounts are <unk> after preferred stock dividends loss continuing operations for the qtr 1986 includes gains of sale of investments in <unk> corp of 14 mln dlrs and associated companies of 4 <unk> 000 less <unk> of investments in national <unk> inc of 11 8 mln and <unk> corp of 15 6 mln reuter 3\n",
            "카테고리 :  3\n",
            "<sos> <unk> <unk> said as a result of its december acquisition of <unk> co it expects earnings per share in 1987 of 1 15 to 1 30 dlrs per share up from 70 cts in 1986 the company said pretax net should rise to nine to 10 mln dlrs from six mln dlrs in 1986 and <unk> operation revenues to 19 to 22 mln dlrs from 12 5 mln dlrs it said cash flow per share this year should be 2 50 to three dlrs reuter 3\n",
            "카테고리 :  4\n",
            "<sos> the farmers home administration the u s agriculture <unk> farm lending <unk> could <unk> about seven billion dlrs in outstanding principal on its <unk> <unk> <unk> or about one fourth of its farm loan <unk> the general accounting office <unk> said in remarks prepared for delivery to the senate agriculture committee <unk> <unk> senior <unk> director of <unk> also said that a preliminary <unk> of proposed changes in <unk> financial <unk> <unk> indicated as many as one half of <unk> <unk> who received new loans from the agency in 1986 would be <unk> under the proposed system the agency has proposed <unk> <unk> credit using a <unk> of financial <unk> instead of <unk> <unk> on <unk> ability senate agriculture committee chairman <unk> <unk> d <unk> <unk> the proposed <unk> changes <unk> <unk> <unk> <unk> <unk> at a <unk> that they would mark a <unk> <unk> in the <unk> <unk> away from being <unk> <unk> of last <unk> toward <unk> a big city bank but <unk> <unk> the new <unk> saying the agency had a <unk> to <unk> its 70 billion dlr loan <unk> in a <unk> yet <unk> <unk> <unk> of <unk> <unk> <unk> <unk> said the proposed credit <unk> system <unk> to <unk> that <unk> would make loans only to <unk> who had a <unk> change of <unk> their debt reuter 3\n",
            "카테고리 :  5\n",
            "<sos> period ended december 31 shr profit 11 cts vs loss 24 cts net profit <unk> <unk> vs loss <unk> <unk> revs 7 <unk> <unk> vs 7 200 <unk> reuter 3\n",
            "카테고리 :  8\n",
            "<sos> leading u s farm state <unk> are seeking to <unk> into the <unk> <unk> trade bill a provision that would <unk> <unk> requirements under the u s agriculture <unk> export <unk> program <unk> to include <unk> buyers of u s farm products including the soviet union senate staff said under existing <unk> usda can offer <unk> subsidies to <unk> export markets lost to <unk> <unk> unfair trading practices senate agriculture committee chairman <unk> <unk> d <unk> is leading a group of farm state <unk> in an effort to <unk> the <unk> in such a way as to <unk> moscow to be <unk> for the subsidies sources said the <unk> including senate finance committee chairman <unk> <unk> d <unk> <unk> <unk> d <unk> david <unk> d <unk> john <unk> d <unk> and <unk> <unk> r <unk> also may <unk> into the trade bill a measure to <unk> pork producers and <unk> from canadian imports the measure <unk> by <unk> <unk> <unk> r <unk> would <unk> the <unk> of industry in <unk> whether or not imports were <unk> <unk> to u s producers <unk> bill <unk> from a 1985 decision by the international trade commission that imports from canada of <unk> <unk> but not fresh <unk> and <unk> pork were <unk> u s producers the <unk> <unk> have <unk> canada has <unk> <unk> shipments of <unk> <unk> with fresh pork reuter 3\n",
            "카테고리 :  9\n",
            "<sos> year to december 31 world group pre tax profit 2 63 billion marks vs 3 04 billion world group turnover 40 47 billion vs 44 38 billion world group investment in fixed assets 2 66 billion vs 2 46 billion parent company pre tax profit 1 97 billion vs 1 91 billion parent turnover 18 72 billion vs 20 46 billion parent domestic turnover 7 10 billion vs 8 14 billion parent foreign turnover 11 62 billion vs 12 32 billion parent investment in fixed assets 1 14 billion vs <unk> mln reuter 3\n",
            "카테고리 :  10\n",
            "<sos> <unk> de <unk> <unk> lt <unk> <unk> and lt <unk> overseas corp of chicago have each taken 50 pct <unk> in <unk> company <unk> <unk> factors <unk> de <unk> said in a statement it gave no financial details of the transaction <unk> <unk> <unk> turnover in 1986 was 17 5 billion belgian francs reuter 3\n",
            "카테고리 :  11\n",
            "<sos> commercial and industrial loans on the <unk> of the 10 major new york banks excluding <unk> fell <unk> mln dlrs to 64 <unk> billion in the week ended march 11 the federal reserve bank of new york said including <unk> loans fell <unk> mln dlrs to 65 16 billion commercial paper outstanding <unk> increased 2 98 billion dlrs to <unk> 00 billion national business loan data are scheduled to be released on friday reuter 3\n",
            "카테고리 :  19\n",
            "<sos> shr 1 24 dlrs vs 19 cts shr diluted 1 11 dlrs vs 19 cts net 11 9 mln vs 1 <unk> 000 revs 79 3 mln vs 46 1 mln note 1986 net includes pretax charge 8 300 000 dlrs from increases and reserves and <unk> of low <unk> assets and pretax gain 20 8 mln dlrs from sale of <unk> family subsidiary another 3 800 000 dlrs of gain from the <unk> family sale will be <unk> in 1987 if <unk> family <unk> <unk> operating results reuter 3\n",
            "카테고리 :  23\n",
            "<sos> standard oil co said a contract has been <unk> to lt <unk> engineering inc for a drilling and production <unk> to be <unk> in <unk> bank block <unk> in the gulf of mexico where standard and <unk> corp each own a 40 pct interest standard said its standard oil production co subsidiary will operate the <unk> which is being designed to produce 15 000 barrels of oil and 50 mln cubic feet of gas daily the <unk> is now expected to be <unk> in the summer of 1988 other <unk> are <unk> <unk> corp lt <unk> with 16 66 pct and lt <unk> insurance co of america with 3 34 pct reuter 3\n"
          ]
        },
        {
          "output_type": "execute_result",
          "data": {
            "text/plain": [
              "'카테고리 : index\\n1 : 2\\n3 : 0\\n4 : 3\\n5: 10\\n8 : 20\\n9 : 24\\n10 : 1\\n11 : 15\\n19 : 18\\n23 : 16\\n'"
            ],
            "application/vnd.google.colaboratory.intrinsic+json": {
              "type": "string"
            }
          },
          "metadata": {},
          "execution_count": 95
        }
      ]
    },
    {
      "cell_type": "markdown",
      "source": [
        "#3. 데이터 전처리"
      ],
      "metadata": {
        "id": "sVyf0BXeRiLp"
      }
    },
    {
      "cell_type": "code",
      "source": [
        "from tensorflow.keras.preprocessing.sequence import pad_sequences\n",
        "from tensorflow.keras.utils import to_categorical"
      ],
      "metadata": {
        "id": "0FH3pDnPRl1u"
      },
      "execution_count": 96,
      "outputs": []
    },
    {
      "cell_type": "code",
      "source": [
        "#x padding, y categorical 처리\n",
        "pad_length = 150\n",
        "pad_x_train = pad_sequences(x_train, pad_length, dtype='int32', padding = 'post')\n",
        "pad_x_test = pad_sequences(x_test, pad_length, dtype='int32', padding= 'post')\n",
        "\n",
        "cat_y_train = to_categorical(y_train)\n",
        "cat_y_test = to_categorical(y_test)"
      ],
      "metadata": {
        "id": "gZnZ_0xISBWP"
      },
      "execution_count": 97,
      "outputs": []
    },
    {
      "cell_type": "markdown",
      "source": [
        "4. 모델 디자인"
      ],
      "metadata": {
        "id": "9bLDSwdLSUSc"
      }
    },
    {
      "cell_type": "code",
      "source": [
        "from tensorflow.keras import models\n",
        "from tensorflow.keras import layers\n",
        "from tensorflow.keras.callbacks import EarlyStopping, ModelCheckpoint"
      ],
      "metadata": {
        "id": "CB0wnzW2SVko"
      },
      "execution_count": 98,
      "outputs": []
    },
    {
      "cell_type": "code",
      "source": [
        "embedding_dim = 128\n",
        "\n",
        "model = models.Sequential()\n",
        "model.add(layers.Embedding(input_dim = num_words, output_dim=embedding_dim))#input_length = pad_length\n",
        "model.add(layers.LSTM(256))\n",
        "model.add(layers.Dense(46, activation='softmax'))\n",
        "\n",
        "model.compile(loss='categorical_crossentropy', optimizer='adam', metrics=['acc'])"
      ],
      "metadata": {
        "id": "kkqvvdUpTbvI"
      },
      "execution_count": 99,
      "outputs": []
    },
    {
      "cell_type": "code",
      "source": [
        "batch_size = 128\n",
        "epochs = 30\n",
        "es = EarlyStopping(monitor='val_loss', mode='min', verbose=1, patience=4)\n",
        "mc = ModelCheckpoint('best_model.h5', monitor='val_acc', mode='max', verbose=1, save_best_only=True)\n",
        "history = model.fit(x=pad_x_train, y=cat_y_train, batch_size = batch_size, epochs = epochs, callbacks = [es,mc], verbose = 2, validation_data = (pad_x_test, cat_y_test))"
      ],
      "metadata": {
        "colab": {
          "base_uri": "https://localhost:8080/"
        },
        "id": "Pqr8j4_Oa0Q0",
        "outputId": "ea237143-e9e1-4bed-c269-aeec31c0bcbf"
      },
      "execution_count": 108,
      "outputs": [
        {
          "output_type": "stream",
          "name": "stdout",
          "text": [
            "Epoch 1/30\n",
            "\n",
            "Epoch 1: val_acc improved from -inf to 0.57970, saving model to best_model.h5\n",
            "71/71 - 2s - loss: 1.4824 - acc: 0.5994 - val_loss: 1.5977 - val_acc: 0.5797 - 2s/epoch - 26ms/step\n",
            "Epoch 2/30\n"
          ]
        },
        {
          "output_type": "stream",
          "name": "stderr",
          "text": [
            "/usr/local/lib/python3.10/dist-packages/keras/src/engine/training.py:3103: UserWarning: You are saving your model as an HDF5 file via `model.save()`. This file format is considered legacy. We recommend using instead the native Keras format, e.g. `model.save('my_model.keras')`.\n",
            "  saving_api.save_model(\n"
          ]
        },
        {
          "output_type": "stream",
          "name": "stdout",
          "text": [
            "\n",
            "Epoch 2: val_acc improved from 0.57970 to 0.58638, saving model to best_model.h5\n",
            "71/71 - 2s - loss: 1.4270 - acc: 0.6049 - val_loss: 1.5372 - val_acc: 0.5864 - 2s/epoch - 29ms/step\n",
            "Epoch 3/30\n",
            "\n",
            "Epoch 3: val_acc did not improve from 0.58638\n",
            "71/71 - 2s - loss: 1.3788 - acc: 0.6227 - val_loss: 1.7891 - val_acc: 0.5574 - 2s/epoch - 22ms/step\n",
            "Epoch 4/30\n",
            "\n",
            "Epoch 4: val_acc improved from 0.58638 to 0.60997, saving model to best_model.h5\n",
            "71/71 - 2s - loss: 1.3704 - acc: 0.6306 - val_loss: 1.5458 - val_acc: 0.6100 - 2s/epoch - 27ms/step\n",
            "Epoch 5/30\n",
            "\n",
            "Epoch 5: val_acc improved from 0.60997 to 0.63802, saving model to best_model.h5\n",
            "71/71 - 2s - loss: 1.2654 - acc: 0.6630 - val_loss: 1.4287 - val_acc: 0.6380 - 2s/epoch - 25ms/step\n",
            "Epoch 6/30\n",
            "\n",
            "Epoch 6: val_acc did not improve from 0.63802\n",
            "71/71 - 2s - loss: 1.2327 - acc: 0.6717 - val_loss: 1.3968 - val_acc: 0.6318 - 2s/epoch - 28ms/step\n",
            "Epoch 7/30\n",
            "\n",
            "Epoch 7: val_acc did not improve from 0.63802\n",
            "71/71 - 2s - loss: 1.1725 - acc: 0.6903 - val_loss: 1.4768 - val_acc: 0.6149 - 2s/epoch - 26ms/step\n",
            "Epoch 8/30\n",
            "\n",
            "Epoch 8: val_acc improved from 0.63802 to 0.66385, saving model to best_model.h5\n",
            "71/71 - 2s - loss: 1.1958 - acc: 0.6837 - val_loss: 1.3266 - val_acc: 0.6638 - 2s/epoch - 27ms/step\n",
            "Epoch 9/30\n",
            "\n",
            "Epoch 9: val_acc improved from 0.66385 to 0.67320, saving model to best_model.h5\n",
            "71/71 - 2s - loss: 1.0823 - acc: 0.7214 - val_loss: 1.2982 - val_acc: 0.6732 - 2s/epoch - 28ms/step\n",
            "Epoch 10/30\n",
            "\n",
            "Epoch 10: val_acc did not improve from 0.67320\n",
            "71/71 - 2s - loss: 1.0406 - acc: 0.7334 - val_loss: 1.3165 - val_acc: 0.6661 - 2s/epoch - 24ms/step\n",
            "Epoch 11/30\n",
            "\n",
            "Epoch 11: val_acc improved from 0.67320 to 0.68032, saving model to best_model.h5\n",
            "71/71 - 2s - loss: 1.0264 - acc: 0.7384 - val_loss: 1.2771 - val_acc: 0.6803 - 2s/epoch - 24ms/step\n",
            "Epoch 12/30\n",
            "\n",
            "Epoch 12: val_acc did not improve from 0.68032\n",
            "71/71 - 2s - loss: 1.0337 - acc: 0.7277 - val_loss: 1.3841 - val_acc: 0.6282 - 2s/epoch - 27ms/step\n",
            "Epoch 13/30\n",
            "\n",
            "Epoch 13: val_acc improved from 0.68032 to 0.69190, saving model to best_model.h5\n",
            "71/71 - 2s - loss: 1.0346 - acc: 0.7316 - val_loss: 1.2261 - val_acc: 0.6919 - 2s/epoch - 25ms/step\n",
            "Epoch 14/30\n",
            "\n",
            "Epoch 14: val_acc improved from 0.69190 to 0.69724, saving model to best_model.h5\n",
            "71/71 - 2s - loss: 0.9350 - acc: 0.7597 - val_loss: 1.2318 - val_acc: 0.6972 - 2s/epoch - 26ms/step\n",
            "Epoch 15/30\n",
            "\n",
            "Epoch 15: val_acc improved from 0.69724 to 0.69858, saving model to best_model.h5\n",
            "71/71 - 2s - loss: 0.8940 - acc: 0.7728 - val_loss: 1.2151 - val_acc: 0.6986 - 2s/epoch - 26ms/step\n",
            "Epoch 16/30\n",
            "\n",
            "Epoch 16: val_acc improved from 0.69858 to 0.70303, saving model to best_model.h5\n",
            "71/71 - 2s - loss: 0.8715 - acc: 0.7778 - val_loss: 1.1999 - val_acc: 0.7030 - 2s/epoch - 27ms/step\n",
            "Epoch 17/30\n",
            "\n",
            "Epoch 17: val_acc improved from 0.70303 to 0.70971, saving model to best_model.h5\n",
            "71/71 - 2s - loss: 0.8338 - acc: 0.7879 - val_loss: 1.1843 - val_acc: 0.7097 - 2s/epoch - 27ms/step\n",
            "Epoch 18/30\n",
            "\n",
            "Epoch 18: val_acc did not improve from 0.70971\n",
            "71/71 - 2s - loss: 0.8087 - acc: 0.7917 - val_loss: 1.2054 - val_acc: 0.7048 - 2s/epoch - 28ms/step\n",
            "Epoch 19/30\n",
            "\n",
            "Epoch 19: val_acc did not improve from 0.70971\n",
            "71/71 - 2s - loss: 0.7771 - acc: 0.8012 - val_loss: 1.2132 - val_acc: 0.7026 - 2s/epoch - 26ms/step\n",
            "Epoch 20/30\n",
            "\n",
            "Epoch 20: val_acc did not improve from 0.70971\n",
            "71/71 - 2s - loss: 0.7553 - acc: 0.8064 - val_loss: 1.1946 - val_acc: 0.7093 - 2s/epoch - 26ms/step\n",
            "Epoch 21/30\n",
            "\n",
            "Epoch 21: val_acc did not improve from 0.70971\n",
            "71/71 - 2s - loss: 0.7201 - acc: 0.8161 - val_loss: 1.1919 - val_acc: 0.7093 - 2s/epoch - 23ms/step\n",
            "Epoch 21: early stopping\n"
          ]
        }
      ]
    },
    {
      "cell_type": "code",
      "source": [
        "import matplotlib.pyplot as plt\n",
        "\n",
        "epochs = range(1, len(history.history['acc']) + 1)\n",
        "plt.plot(epochs, history.history['loss'])\n",
        "plt.plot(epochs, history.history['val_loss'])\n",
        "plt.title('model loss')\n",
        "plt.ylabel('loss')\n",
        "plt.xlabel('epoch')\n",
        "plt.legend(['train', 'test'], loc='upper left')\n",
        "plt.show()"
      ],
      "metadata": {
        "colab": {
          "base_uri": "https://localhost:8080/",
          "height": 472
        },
        "id": "XQYXgRZijLT1",
        "outputId": "d476190c-76c8-4ebc-a958-d3f509104904"
      },
      "execution_count": 109,
      "outputs": [
        {
          "output_type": "display_data",
          "data": {
            "text/plain": [
              "<Figure size 640x480 with 1 Axes>"
            ],
            "image/png": "[encoded data removed]"
          },
          "metadata": {}
        }
      ]
    },
    {
      "cell_type": "markdown",
      "source": [
        "#모델 평가"
      ],
      "metadata": {
        "id": "U6weKZpLws1c"
      }
    },
    {
      "cell_type": "code",
      "source": [
        "res = model.evaluate(pad_x_test, cat_y_test)\n",
        "print(\"\\n 테스트 정확도: %.4f\" % res[1])"
      ],
      "metadata": {
        "colab": {
          "base_uri": "https://localhost:8080/"
        },
        "id": "IADASnNccvlZ",
        "outputId": "deca405a-d075-4856-cfc5-99ea64877db7"
      },
      "execution_count": 110,
      "outputs": [
        {
          "output_type": "stream",
          "name": "stdout",
          "text": [
            "71/71 [==============================] - 1s 8ms/step - loss: 1.1919 - acc: 0.7093\n",
            "\n",
            " 테스트 정확도: 0.7093\n"
          ]
        }
      ]
    },
    {
      "cell_type": "code",
      "source": [
        "for i in range(395,400):\n",
        "\n",
        "  pred = model.predict(np.expand_dims(pad_x_test[i],axis=0))\n",
        "\n",
        "  print(f\"{i}번째\")\n",
        "  print(f\"모델 예측 : {np.argmax(pred)}, 실값 : {y_test[i]}\\n\" )"
      ],
      "metadata": {
        "colab": {
          "base_uri": "https://localhost:8080/"
        },
        "id": "aM_wY98ywvUV",
        "outputId": "0e19606a-8abc-4a27-ef49-413c6e36f242"
      },
      "execution_count": 111,
      "outputs": [
        {
          "output_type": "stream",
          "name": "stdout",
          "text": [
            "1/1 [==============================] - 0s 29ms/step\n",
            "395번째\n",
            "모델 예측 : 3, 실값 : 3\n",
            "\n",
            "1/1 [==============================] - 0s 31ms/step\n",
            "396번째\n",
            "모델 예측 : 3, 실값 : 3\n",
            "\n",
            "1/1 [==============================] - 0s 36ms/step\n",
            "397번째\n",
            "모델 예측 : 16, 실값 : 16\n",
            "\n",
            "1/1 [==============================] - 0s 43ms/step\n",
            "398번째\n",
            "모델 예측 : 9, 실값 : 1\n",
            "\n",
            "1/1 [==============================] - 0s 33ms/step\n",
            "399번째\n",
            "모델 예측 : 19, 실값 : 19\n",
            "\n"
          ]
        }
      ]
    },
    {
      "cell_type": "code",
      "source": [
        "\"\"\"\n",
        "dense sigmoid->softmax 정확도 0.3704 ->  0.3704\n",
        "\n",
        "Embedding output_dim 32->128\n",
        "LSTM hidden_layer 128\n",
        "      정확도 0.3704 -> 0.6585\n",
        "\n",
        "Embedding output_dim 128\n",
        "LSTM 256\n",
        "      정확도 0.6585 -> 0.6919\n",
        "\n",
        "\"\"\""
      ],
      "metadata": {
        "id": "CGpbtHM95Rn6",
        "colab": {
          "base_uri": "https://localhost:8080/",
          "height": 54
        },
        "outputId": "e3b039c0-3ffd-4d71-95ad-e9ad361d71fb"
      },
      "execution_count": 104,
      "outputs": [
        {
          "output_type": "execute_result",
          "data": {
            "text/plain": [
              "'\\ndense sigmoid->softmax 정확도 0.3704 ->  0.3704\\n\\nEmbedding output_dim 32->128\\nLSTM hidden_layer 128\\n      정확도 0.3704 -> 0.6585\\n\\nEmbedding output_dim 128\\nLSTM 256\\n      정확도 0.6585 -> 0.6919\\n\\n'"
            ],
            "application/vnd.google.colaboratory.intrinsic+json": {
              "type": "string"
            }
          },
          "metadata": {},
          "execution_count": 104
        }
      ]
    },
    {
      "cell_type": "markdown",
      "source": [
        "#6. 모델 사용 - 46개중 10개의 카테고리별 하나씩 뉴스 출력하기\n",
        "\n"
      ],
      "metadata": {
        "id": "-9CQRyJn6K9Q"
      }
    },
    {
      "cell_type": "code",
      "source": [
        "#처음부터 model 사용해 차례대로 예측\n",
        "#예측한 카테고리가 처음이라면 카테고리와 그 인덱스 저장하고 아니라면 넘어감. 예측한 카테고리 총 개수가 10개가 될 때까지 반복\n",
        "i = 0\n",
        "chk_category = np.array([[0,0]])\n",
        "\n",
        "while len(chk_category) < 11:\n",
        "  pred = model.predict(np.expand_dims(pad_x_test[i],axis=0))\n",
        "  res = np.argmax(pred)\n",
        "\n",
        "  if res in np.array(chk_category[:,0]):\n",
        "    print(\"index : \",i)\n",
        "    print(chk_category.flatten())\n",
        "  else:\n",
        "    chk_category = np.append(chk_category, [[res,i]], axis=0)\n",
        "  i += 1\n"
      ],
      "metadata": {
        "id": "Z6-uYaZu6LSg",
        "colab": {
          "base_uri": "https://localhost:8080/"
        },
        "outputId": "83ec30b7-30a9-4fe4-9f71-bacd5035eaf8"
      },
      "execution_count": 112,
      "outputs": [
        {
          "output_type": "stream",
          "name": "stdout",
          "text": [
            "1/1 [==============================] - 0s 21ms/step\n",
            "1/1 [==============================] - 0s 23ms/step\n",
            "1/1 [==============================] - 0s 20ms/step\n",
            "1/1 [==============================] - 0s 21ms/step\n",
            "1/1 [==============================] - 0s 21ms/step\n",
            "1/1 [==============================] - 0s 22ms/step\n",
            "index :  5\n",
            "[ 0  0  3  0 10  1  1  2  4  3 13  4]\n",
            "1/1 [==============================] - 0s 25ms/step\n",
            "index :  6\n",
            "[ 0  0  3  0 10  1  1  2  4  3 13  4]\n",
            "1/1 [==============================] - 0s 22ms/step\n",
            "index :  7\n",
            "[ 0  0  3  0 10  1  1  2  4  3 13  4]\n",
            "1/1 [==============================] - 0s 23ms/step\n",
            "index :  8\n",
            "[ 0  0  3  0 10  1  1  2  4  3 13  4]\n",
            "1/1 [==============================] - 0s 21ms/step\n",
            "index :  9\n",
            "[ 0  0  3  0 10  1  1  2  4  3 13  4]\n",
            "1/1 [==============================] - 0s 23ms/step\n",
            "index :  10\n",
            "[ 0  0  3  0 10  1  1  2  4  3 13  4]\n",
            "1/1 [==============================] - 0s 22ms/step\n",
            "index :  11\n",
            "[ 0  0  3  0 10  1  1  2  4  3 13  4]\n",
            "1/1 [==============================] - 0s 23ms/step\n",
            "index :  12\n",
            "[ 0  0  3  0 10  1  1  2  4  3 13  4]\n",
            "1/1 [==============================] - 0s 24ms/step\n",
            "index :  13\n",
            "[ 0  0  3  0 10  1  1  2  4  3 13  4]\n",
            "1/1 [==============================] - 0s 22ms/step\n",
            "index :  14\n",
            "[ 0  0  3  0 10  1  1  2  4  3 13  4]\n",
            "1/1 [==============================] - 0s 21ms/step\n",
            "1/1 [==============================] - 0s 29ms/step\n",
            "index :  16\n",
            "[ 0  0  3  0 10  1  1  2  4  3 13  4 20 15]\n",
            "1/1 [==============================] - 0s 22ms/step\n",
            "index :  17\n",
            "[ 0  0  3  0 10  1  1  2  4  3 13  4 20 15]\n",
            "1/1 [==============================] - 0s 23ms/step\n",
            "1/1 [==============================] - 0s 22ms/step\n",
            "index :  19\n",
            "[ 0  0  3  0 10  1  1  2  4  3 13  4 20 15 19 18]\n",
            "1/1 [==============================] - 0s 23ms/step\n",
            "index :  20\n",
            "[ 0  0  3  0 10  1  1  2  4  3 13  4 20 15 19 18]\n",
            "1/1 [==============================] - 0s 21ms/step\n",
            "index :  21\n",
            "[ 0  0  3  0 10  1  1  2  4  3 13  4 20 15 19 18]\n",
            "1/1 [==============================] - 0s 24ms/step\n",
            "index :  22\n",
            "[ 0  0  3  0 10  1  1  2  4  3 13  4 20 15 19 18]\n",
            "1/1 [==============================] - 0s 21ms/step\n",
            "index :  23\n",
            "[ 0  0  3  0 10  1  1  2  4  3 13  4 20 15 19 18]\n",
            "1/1 [==============================] - 0s 24ms/step\n",
            "1/1 [==============================] - 0s 20ms/step\n",
            "index :  25\n",
            "[ 0  0  3  0 10  1  1  2  4  3 13  4 20 15 19 18  9 24]\n",
            "1/1 [==============================] - 0s 23ms/step\n",
            "index :  26\n",
            "[ 0  0  3  0 10  1  1  2  4  3 13  4 20 15 19 18  9 24]\n",
            "1/1 [==============================] - 0s 24ms/step\n",
            "1/1 [==============================] - 0s 21ms/step\n",
            "index :  28\n",
            "[ 0  0  3  0 10  1  1  2  4  3 13  4 20 15 19 18  9 24 25 27]\n",
            "1/1 [==============================] - 0s 25ms/step\n",
            "index :  29\n",
            "[ 0  0  3  0 10  1  1  2  4  3 13  4 20 15 19 18  9 24 25 27]\n",
            "1/1 [==============================] - 0s 23ms/step\n",
            "index :  30\n",
            "[ 0  0  3  0 10  1  1  2  4  3 13  4 20 15 19 18  9 24 25 27]\n",
            "1/1 [==============================] - 0s 21ms/step\n",
            "index :  31\n",
            "[ 0  0  3  0 10  1  1  2  4  3 13  4 20 15 19 18  9 24 25 27]\n",
            "1/1 [==============================] - 0s 19ms/step\n",
            "index :  32\n",
            "[ 0  0  3  0 10  1  1  2  4  3 13  4 20 15 19 18  9 24 25 27]\n",
            "1/1 [==============================] - 0s 22ms/step\n",
            "index :  33\n",
            "[ 0  0  3  0 10  1  1  2  4  3 13  4 20 15 19 18  9 24 25 27]\n",
            "1/1 [==============================] - 0s 21ms/step\n",
            "index :  34\n",
            "[ 0  0  3  0 10  1  1  2  4  3 13  4 20 15 19 18  9 24 25 27]\n",
            "1/1 [==============================] - 0s 23ms/step\n",
            "index :  35\n",
            "[ 0  0  3  0 10  1  1  2  4  3 13  4 20 15 19 18  9 24 25 27]\n",
            "1/1 [==============================] - 0s 22ms/step\n",
            "index :  36\n",
            "[ 0  0  3  0 10  1  1  2  4  3 13  4 20 15 19 18  9 24 25 27]\n",
            "1/1 [==============================] - 0s 23ms/step\n",
            "index :  37\n",
            "[ 0  0  3  0 10  1  1  2  4  3 13  4 20 15 19 18  9 24 25 27]\n",
            "1/1 [==============================] - 0s 22ms/step\n",
            "index :  38\n",
            "[ 0  0  3  0 10  1  1  2  4  3 13  4 20 15 19 18  9 24 25 27]\n",
            "1/1 [==============================] - 0s 23ms/step\n",
            "index :  39\n",
            "[ 0  0  3  0 10  1  1  2  4  3 13  4 20 15 19 18  9 24 25 27]\n",
            "1/1 [==============================] - 0s 21ms/step\n",
            "index :  40\n",
            "[ 0  0  3  0 10  1  1  2  4  3 13  4 20 15 19 18  9 24 25 27]\n",
            "1/1 [==============================] - 0s 20ms/step\n"
          ]
        }
      ]
    },
    {
      "cell_type": "code",
      "source": [
        "#카테고리, index (첫 데이터는 더미데이터)\n",
        "chk_category"
      ],
      "metadata": {
        "colab": {
          "base_uri": "https://localhost:8080/"
        },
        "id": "cFVsW-gkTKSl",
        "outputId": "0cf68965-7099-4f0b-85d1-926e446f4b0a"
      },
      "execution_count": 113,
      "outputs": [
        {
          "output_type": "execute_result",
          "data": {
            "text/plain": [
              "array([[ 0,  0],\n",
              "       [ 3,  0],\n",
              "       [10,  1],\n",
              "       [ 1,  2],\n",
              "       [ 4,  3],\n",
              "       [13,  4],\n",
              "       [20, 15],\n",
              "       [19, 18],\n",
              "       [ 9, 24],\n",
              "       [25, 27],\n",
              "       [21, 41]])"
            ]
          },
          "metadata": {},
          "execution_count": 113
        }
      ]
    },
    {
      "cell_type": "code",
      "source": [
        "for cat, label in chk_category[1:]:\n",
        "  print(f\"category : {cat}\")\n",
        "  print(' '.join([index_to_word[index] for index in x_train[label]]))\n",
        "  print()"
      ],
      "metadata": {
        "colab": {
          "base_uri": "https://localhost:8080/"
        },
        "id": "ZWJmL8j0VIrm",
        "outputId": "d406876b-5a1e-43e1-b266-305aa01175dc"
      },
      "execution_count": 114,
      "outputs": [
        {
          "output_type": "stream",
          "name": "stdout",
          "text": [
            "category : 3\n",
            "<sos> <unk> <unk> said as a result of its december acquisition of <unk> co it expects earnings per share in 1987 of 1 15 to 1 30 dlrs per share up from 70 cts in 1986 the company said pretax net should rise to nine to 10 mln dlrs from six mln dlrs in 1986 and <unk> operation revenues to 19 to 22 mln dlrs from 12 5 mln dlrs it said cash flow per share this year should be 2 50 to three dlrs reuter 3\n",
            "\n",
            "category : 10\n",
            "<sos> <unk> de <unk> <unk> lt <unk> <unk> and lt <unk> overseas corp of chicago have each taken 50 pct <unk> in <unk> company <unk> <unk> factors <unk> de <unk> said in a statement it gave no financial details of the transaction <unk> <unk> <unk> turnover in 1986 was 17 5 billion belgian francs reuter 3\n",
            "\n",
            "category : 1\n",
            "<sos> shr 3 28 dlrs vs 22 cts shr diluted 2 99 dlrs vs 22 cts net 46 0 mln vs 3 <unk> 000 avg shrs 14 0 mln vs 15 2 mln year shr 5 41 dlrs vs 1 56 dlrs shr diluted 4 94 dlrs vs 1 50 dlrs net 78 2 mln vs 25 9 mln avg shrs 14 5 mln vs 15 1 mln note earnings per share reflect the two for one split effective january 6 1987 per share amounts are <unk> after preferred stock dividends loss continuing operations for the qtr 1986 includes gains of sale of investments in <unk> corp of 14 mln dlrs and associated companies of 4 <unk> 000 less <unk> of investments in national <unk> inc of 11 8 mln and <unk> corp of 15 6 mln reuter 3\n",
            "\n",
            "category : 4\n",
            "<sos> the farmers home administration the u s agriculture <unk> farm lending <unk> could <unk> about seven billion dlrs in outstanding principal on its <unk> <unk> <unk> or about one fourth of its farm loan <unk> the general accounting office <unk> said in remarks prepared for delivery to the senate agriculture committee <unk> <unk> senior <unk> director of <unk> also said that a preliminary <unk> of proposed changes in <unk> financial <unk> <unk> indicated as many as one half of <unk> <unk> who received new loans from the agency in 1986 would be <unk> under the proposed system the agency has proposed <unk> <unk> credit using a <unk> of financial <unk> instead of <unk> <unk> on <unk> ability senate agriculture committee chairman <unk> <unk> d <unk> <unk> the proposed <unk> changes <unk> <unk> <unk> <unk> <unk> at a <unk> that they would mark a <unk> <unk> in the <unk> <unk> away from being <unk> <unk> of last <unk> toward <unk> a big city bank but <unk> <unk> the new <unk> saying the agency had a <unk> to <unk> its 70 billion dlr loan <unk> in a <unk> yet <unk> <unk> <unk> of <unk> <unk> <unk> <unk> said the proposed credit <unk> system <unk> to <unk> that <unk> would make loans only to <unk> who had a <unk> change of <unk> their debt reuter 3\n",
            "\n",
            "category : 13\n",
            "<sos> <unk> co said its board has received a proposal from chairman and chief executive officer <unk> d <unk> to acquire <unk> for 15 75 dlrs per share in cash <unk> said the acquisition bid is subject to <unk> <unk> the necessary financing it said he intends to <unk> other members of senior management to <unk> the company said <unk> owns 30 pct of <unk> stock and other management members another 7 5 pct <unk> said it has formed an independent board committee to consider the offer and has <unk> the annual meeting it had scheduled for march 31 reuter 3\n",
            "\n",
            "category : 20\n",
            "<sos> commercial and industrial loans on the <unk> of the 10 major new york banks excluding <unk> fell <unk> mln dlrs to 64 <unk> billion in the week ended march 11 the federal reserve bank of new york said including <unk> loans fell <unk> mln dlrs to 65 16 billion commercial paper outstanding <unk> increased 2 98 billion dlrs to <unk> 00 billion national business loan data are scheduled to be released on friday reuter 3\n",
            "\n",
            "category : 19\n",
            "<sos> shr 1 24 dlrs vs 19 cts shr diluted 1 11 dlrs vs 19 cts net 11 9 mln vs 1 <unk> 000 revs 79 3 mln vs 46 1 mln note 1986 net includes pretax charge 8 300 000 dlrs from increases and reserves and <unk> of low <unk> assets and pretax gain 20 8 mln dlrs from sale of <unk> family subsidiary another 3 800 000 dlrs of gain from the <unk> family sale will be <unk> in 1987 if <unk> family <unk> <unk> operating results reuter 3\n",
            "\n",
            "category : 9\n",
            "<sos> year to december 31 world group pre tax profit 2 63 billion marks vs 3 04 billion world group turnover 40 47 billion vs 44 38 billion world group investment in fixed assets 2 66 billion vs 2 46 billion parent company pre tax profit 1 97 billion vs 1 91 billion parent turnover 18 72 billion vs 20 46 billion parent domestic turnover 7 10 billion vs 8 14 billion parent foreign turnover 11 62 billion vs 12 32 billion parent investment in fixed assets 1 14 billion vs <unk> mln reuter 3\n",
            "\n",
            "category : 25\n",
            "<sos> a large dutch <unk> feed <unk> will begin <unk> legal <unk> early next month as a test case on the way the ec grain co <unk> <unk> is <unk> a spokesman for dutch grain and feed trade association <unk> <unk> told reuters <unk> <unk> has been co <unk> national actions against <unk> <unk> caused by currency factors in the <unk> and since december has <unk> more than 80 <unk> <unk> with the business <unk> court in the <unk> the basic <unk> is that the <unk> does not take account of currency <unk> rates of exchange and therefore <unk> in countries with strong currencies may have to pay more in their own currency than is paid to them by producers in another country <unk> <unk> has <unk> a temporary agreement that companies can pay the amount they receive toward the <unk> rather than paying a full <unk> amount to the dutch grain commodity board the spokesman said <unk> <unk> will provide financial and legal <unk> to the test case in the business administration court in the <unk> <unk> <unk> are to begin on april 10 the spokesman said <unk> <unk> <unk> <unk> the company for the test case from among the 80 <unk> because the bill the firm received from the commodity board for payment of the <unk> <unk> significant currency <unk> and involved grain from a <unk> <unk> of <unk> the name of the company is not being made public the administration court is not expected to make a final ruling on the case in the near future the <unk> <unk> spokesman said it was very likely it would <unk> <unk> to the <unk> court in <unk> and as a result it could <unk> be another nine to 12 months before the matter is <unk> <unk> <unk> the actions by dutch <unk> feed <unk> are <unk> pressure on the commodity board to <unk> the dutch government to follow through on earlier statements and seek a complete review in <unk> of the way in which the <unk> is <unk> the spokesman said <unk> <unk> as a member of <unk> the association of european <unk> feed manufacturers is also a party to actions <unk> the whole <unk> in the <unk> <unk> court reuter 3\n",
            "\n",
            "category : 21\n",
            "<sos> the <unk> trade deficit <unk> to <unk> mln dlrs in the eight months to end august from <unk> mln dlrs in the same 1986 period the national statistics office said it said exports in the eight month period rose to 3 58 billion dlrs from 3 18 billion in 1986 while imports rose to 4 12 billion dlrs from 3 34 billion a year earlier the country's trade deficit totalled <unk> mln dlrs in 1986 reuter 3\n",
            "\n"
          ]
        }
      ]
    },
    {
      "cell_type": "code",
      "source": [],
      "metadata": {
        "id": "EEPRjmwPZZNg"
      },
      "execution_count": null,
      "outputs": []
    }
  ]
}