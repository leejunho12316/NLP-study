{
  "nbformat": 4,
  "nbformat_minor": 0,
  "metadata": {
    "colab": {
      "provenance": [],
      "authorship_tag": "ABX9TyPCQyE49XVKRRAKZ4RPzlLe",
      "include_colab_link": true
    },
    "kernelspec": {
      "name": "python3",
      "display_name": "Python 3"
    },
    "language_info": {
      "name": "python"
    }
  },
  "cells": [
    {
      "cell_type": "markdown",
      "metadata": {
        "id": "view-in-github",
        "colab_type": "text"
      },
      "source": [
        "<a href=\"https://colab.research.google.com/github/leejunho12316/NLP-study/blob/main/14_API%EB%A1%9C_%EB%AA%A8%EB%8D%B8_%EB%A7%8C%EB%93%A4%EC%96%B4%EB%B3%B4%EA%B8%B0.ipynb\" target=\"_parent\"><img src=\"https://colab.research.google.com/assets/colab-badge.svg\" alt=\"Open In Colab\"/></a>"
      ]
    },
    {
      "cell_type": "code",
      "execution_count": 6,
      "metadata": {
        "id": "pvQVSri5Is41"
      },
      "outputs": [],
      "source": [
        "from tensorflow.keras import layers\n",
        "from tensorflow import keras"
      ]
    },
    {
      "cell_type": "markdown",
      "source": [
        "API로 모델 만들기"
      ],
      "metadata": {
        "id": "4nI10RydQWKm"
      }
    },
    {
      "cell_type": "code",
      "source": [
        "inputs = keras.Input(shape=(784,))\n",
        "\n",
        "dense = layers.Dense(64, activation='relu')\n",
        "x = dense(inputs)\n",
        "\n",
        "dense2 = layers.Dense(64, activation='relu')\n",
        "x = dense2(x)\n",
        "\n",
        "dense3 = layers.Dense(64, activation='relu')\n",
        "outputs = dense3(x)\n",
        "\n",
        "model = keras.Model(inputs=inputs, outputs=outputs)\n",
        "model.summary()"
      ],
      "metadata": {
        "colab": {
          "base_uri": "https://localhost:8080/"
        },
        "id": "EVNxYiuSI0wa",
        "outputId": "34b87f20-bc0f-4372-9aaf-758dbbb70224"
      },
      "execution_count": 12,
      "outputs": [
        {
          "output_type": "stream",
          "name": "stdout",
          "text": [
            "Model: \"model_4\"\n",
            "_________________________________________________________________\n",
            " Layer (type)                Output Shape              Param #   \n",
            "=================================================================\n",
            " input_6 (InputLayer)        [(None, 784)]             0         \n",
            "                                                                 \n",
            " dense_12 (Dense)            (None, 64)                50240     \n",
            "                                                                 \n",
            " dense_13 (Dense)            (None, 64)                4160      \n",
            "                                                                 \n",
            " dense_14 (Dense)            (None, 64)                4160      \n",
            "                                                                 \n",
            "=================================================================\n",
            "Total params: 58560 (228.75 KB)\n",
            "Trainable params: 58560 (228.75 KB)\n",
            "Non-trainable params: 0 (0.00 Byte)\n",
            "_________________________________________________________________\n"
          ]
        }
      ]
    },
    {
      "cell_type": "code",
      "source": [
        "model.compile(\n",
        "    loss = keras.losses.SparseCategoricalCrossentropy(from_logits = True),\n",
        "    optimizer = keras.optimizers.RMSprop(),\n",
        "    metrics = [\"accuracy\"]\n",
        ")"
      ],
      "metadata": {
        "id": "jKFPPS1LPyaa"
      },
      "execution_count": 16,
      "outputs": []
    },
    {
      "cell_type": "markdown",
      "source": [
        "데이터 준비하기"
      ],
      "metadata": {
        "id": "1zu8ukuPQyrC"
      }
    },
    {
      "cell_type": "code",
      "source": [
        "(x_train, y_train), (x_test, y_test) = keras.datasets.mnist.load_data()\n",
        "\n",
        "x_train = x_train.reshape(60000, 784).astype(\"float32\")/255\n",
        "x_test = x_test.reshape(10000, 784).astype(\"float32\")/255"
      ],
      "metadata": {
        "id": "nswoRBdgPTbe"
      },
      "execution_count": 20,
      "outputs": []
    },
    {
      "cell_type": "markdown",
      "source": [
        "모델에 데이터 fit"
      ],
      "metadata": {
        "id": "6p9_qBvVPov7"
      }
    },
    {
      "cell_type": "code",
      "source": [
        "history = model.fit(x_train, y_train, batch_size = 64, epochs = 2, validation_split = 0.2)\n",
        "loss, acc = model.evaluate(x_test, y_test, verbose = 2)"
      ],
      "metadata": {
        "colab": {
          "base_uri": "https://localhost:8080/"
        },
        "id": "R4zIOQP6Q7Rz",
        "outputId": "4ae00ce3-fac2-482e-a38b-bb0b9c4e2739"
      },
      "execution_count": 26,
      "outputs": [
        {
          "output_type": "stream",
          "name": "stdout",
          "text": [
            "Epoch 1/2\n",
            "750/750 [==============================] - 2s 3ms/step - loss: 0.0891 - accuracy: 0.9725 - val_loss: 0.1306 - val_accuracy: 0.9617\n",
            "Epoch 2/2\n",
            "750/750 [==============================] - 3s 4ms/step - loss: 0.0756 - accuracy: 0.9776 - val_loss: 0.1107 - val_accuracy: 0.9682\n",
            "313/313 - 1s - loss: 0.1006 - accuracy: 0.9695 - 684ms/epoch - 2ms/step\n"
          ]
        }
      ]
    },
    {
      "cell_type": "code",
      "source": [
        "print(\"loss :\", loss)\n",
        "print(\"accracy :\", acc)"
      ],
      "metadata": {
        "colab": {
          "base_uri": "https://localhost:8080/"
        },
        "id": "YDpcaZC3RONV",
        "outputId": "ca103327-afcf-49c7-f723-bb985f0cdd5c"
      },
      "execution_count": 27,
      "outputs": [
        {
          "output_type": "stream",
          "name": "stdout",
          "text": [
            "loss : 0.10059933364391327\n",
            "accracy : 0.9695000052452087\n"
          ]
        }
      ]
    }
  ]
}