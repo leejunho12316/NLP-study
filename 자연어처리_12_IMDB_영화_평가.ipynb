{
  "nbformat": 4,
  "nbformat_minor": 0,
  "metadata": {
    "colab": {
      "provenance": [],
      "authorship_tag": "ABX9TyMhLJCv0ln7WWjgCDAGwSMI",
      "include_colab_link": true
    },
    "kernelspec": {
      "name": "python3",
      "display_name": "Python 3"
    },
    "language_info": {
      "name": "python"
    }
  },
  "cells": [
    {
      "cell_type": "markdown",
      "metadata": {
        "id": "view-in-github",
        "colab_type": "text"
      },
      "source": [
        "<a href=\"https://colab.research.google.com/github/leejunho12316/NLP-study/blob/main/%EC%9E%90%EC%97%B0%EC%96%B4%EC%B2%98%EB%A6%AC_12_IMDB_%EC%98%81%ED%99%94_%ED%8F%89%EA%B0%80.ipynb\" target=\"_parent\"><img src=\"https://colab.research.google.com/assets/colab-badge.svg\" alt=\"Open In Colab\"/></a>"
      ]
    },
    {
      "cell_type": "code",
      "execution_count": 36,
      "metadata": {
        "id": "jDb4RdNqnQqE"
      },
      "outputs": [],
      "source": [
        "from tensorflow.keras import datasets"
      ]
    },
    {
      "cell_type": "code",
      "source": [
        "#데이터\n",
        "(x_train, y_train), (x_test, y_test) = datasets.imdb.load_data(num_words = 10000)"
      ],
      "metadata": {
        "id": "CIU0aR4hnWIe"
      },
      "execution_count": 47,
      "outputs": []
    },
    {
      "cell_type": "code",
      "source": [
        "#데이터 디코딩 데이터\n",
        "word_to_index = datasets.imdb.get_word_index()\n",
        "\n",
        "word_to_index = {k:(v+3) for k,v in word_to_index.items()}\n",
        "word_to_index[\"<PAD>\"]=0\n",
        "word_to_index[\"<START>\"]=1\n",
        "word_to_index[\"<UNK>\"]=2\n",
        "word_to_index[\"<UNUSED>\"]=3\n",
        "\n",
        "reverse_index = dict((val, key) for (key, val) in word_to_index.items())\n",
        "\n",
        "changed = ' '.join([reverse_index[word] for word in x_train[0]])\n",
        "changed"
      ],
      "metadata": {
        "colab": {
          "base_uri": "https://localhost:8080/",
          "height": 72
        },
        "id": "ZOIcQ94gn6Jm",
        "outputId": "c6cbe3c8-2537-40b8-8a59-24dfcb89aa9a"
      },
      "execution_count": 63,
      "outputs": [
        {
          "output_type": "execute_result",
          "data": {
            "text/plain": [
              "\"cry at a film it must have been good and this definitely was also <UNK> to the two little boy's that played the <UNK> of norman and paul they were just brilliant children are often left out of the <UNK> list i think because the stars that play them all grown up are such a big profile for the whole film but these children are amazing and should be praised for what they have done don't you think the whole story was so lovely because it was true and was someone's life after all that was shared with us all\""
            ],
            "application/vnd.google.colaboratory.intrinsic+json": {
              "type": "string"
            }
          },
          "metadata": {},
          "execution_count": 63
        }
      ]
    },
    {
      "cell_type": "code",
      "source": [
        "from tensorflow.keras.preprocessing.sequence import pad_sequences\n",
        "\n",
        "x_train = pad_sequences(x_train, maxlen=100)\n",
        "x_test = pad_sequences(x_test, maxlen=100)"
      ],
      "metadata": {
        "id": "dJQYVw0qrRp5"
      },
      "execution_count": 64,
      "outputs": []
    },
    {
      "cell_type": "code",
      "source": [
        "from tensorflow.keras.models import Sequential\n",
        "from tensorflow.keras import layers\n",
        "\n",
        "model = Sequential()\n",
        "model.add(layers.Embedding(10000, 64, input_length = 100))\n",
        "model.add(layers.Flatten())\n",
        "model.add(layers.Dense(64, activation='relu'))\n",
        "model.add(layers.Dropout(0.5))\n",
        "model.add(layers.Dense(1, activation='sigmoid'))\n",
        "\n",
        "model.summary()"
      ],
      "metadata": {
        "colab": {
          "base_uri": "https://localhost:8080/"
        },
        "id": "WHsZFjdcv5RD",
        "outputId": "a392d4c6-9cd5-44fd-d5cd-9193e162f062"
      },
      "execution_count": 65,
      "outputs": [
        {
          "output_type": "stream",
          "name": "stdout",
          "text": [
            "Model: \"sequential_2\"\n",
            "_________________________________________________________________\n",
            " Layer (type)                Output Shape              Param #   \n",
            "=================================================================\n",
            " embedding_1 (Embedding)     (None, 100, 64)           640000    \n",
            "                                                                 \n",
            " flatten_1 (Flatten)         (None, 6400)              0         \n",
            "                                                                 \n",
            " dense_2 (Dense)             (None, 64)                409664    \n",
            "                                                                 \n",
            " dropout_1 (Dropout)         (None, 64)                0         \n",
            "                                                                 \n",
            " dense_3 (Dense)             (None, 1)                 65        \n",
            "                                                                 \n",
            "=================================================================\n",
            "Total params: 1049729 (4.00 MB)\n",
            "Trainable params: 1049729 (4.00 MB)\n",
            "Non-trainable params: 0 (0.00 Byte)\n",
            "_________________________________________________________________\n"
          ]
        }
      ]
    },
    {
      "cell_type": "code",
      "source": [
        "model.compile(loss='binary_crossentropy', optimizer='adam',metrics=['accuracy'])\n",
        "history = model.fit(x_train, y_train, batch_size=64, epochs=20, verbose=1, validation_data = (x_test, y_test))"
      ],
      "metadata": {
        "colab": {
          "base_uri": "https://localhost:8080/"
        },
        "id": "g_RHJDUgxhyb",
        "outputId": "d7129c9a-82ee-4015-dc8f-b87dc0d3ddc5"
      },
      "execution_count": 66,
      "outputs": [
        {
          "output_type": "stream",
          "name": "stdout",
          "text": [
            "Epoch 1/20\n",
            "391/391 [==============================] - 11s 26ms/step - loss: 0.4637 - accuracy: 0.7629 - val_loss: 0.3377 - val_accuracy: 0.8481\n",
            "Epoch 2/20\n",
            "391/391 [==============================] - 10s 25ms/step - loss: 0.1666 - accuracy: 0.9409 - val_loss: 0.4023 - val_accuracy: 0.8347\n",
            "Epoch 3/20\n",
            "391/391 [==============================] - 11s 29ms/step - loss: 0.0236 - accuracy: 0.9953 - val_loss: 0.5455 - val_accuracy: 0.8337\n",
            "Epoch 4/20\n",
            "391/391 [==============================] - 10s 25ms/step - loss: 0.0046 - accuracy: 0.9997 - val_loss: 0.5994 - val_accuracy: 0.8383\n",
            "Epoch 5/20\n",
            "391/391 [==============================] - 9s 24ms/step - loss: 0.0016 - accuracy: 0.9999 - val_loss: 0.6572 - val_accuracy: 0.8375\n",
            "Epoch 6/20\n",
            "391/391 [==============================] - 10s 25ms/step - loss: 9.0620e-04 - accuracy: 1.0000 - val_loss: 0.6898 - val_accuracy: 0.8401\n",
            "Epoch 7/20\n",
            "391/391 [==============================] - 10s 25ms/step - loss: 5.3849e-04 - accuracy: 1.0000 - val_loss: 0.7199 - val_accuracy: 0.8398\n",
            "Epoch 8/20\n",
            "391/391 [==============================] - 11s 27ms/step - loss: 3.4733e-04 - accuracy: 1.0000 - val_loss: 0.7482 - val_accuracy: 0.8402\n",
            "Epoch 9/20\n",
            "391/391 [==============================] - 9s 23ms/step - loss: 2.3680e-04 - accuracy: 1.0000 - val_loss: 0.7773 - val_accuracy: 0.8404\n",
            "Epoch 10/20\n",
            "391/391 [==============================] - 10s 25ms/step - loss: 1.9414e-04 - accuracy: 1.0000 - val_loss: 0.8016 - val_accuracy: 0.8408\n",
            "Epoch 11/20\n",
            "391/391 [==============================] - 10s 25ms/step - loss: 1.4909e-04 - accuracy: 1.0000 - val_loss: 0.8237 - val_accuracy: 0.8406\n",
            "Epoch 12/20\n",
            "391/391 [==============================] - 10s 25ms/step - loss: 1.0124e-04 - accuracy: 1.0000 - val_loss: 0.8476 - val_accuracy: 0.8407\n",
            "Epoch 13/20\n",
            "391/391 [==============================] - 9s 23ms/step - loss: 7.7419e-05 - accuracy: 1.0000 - val_loss: 0.8754 - val_accuracy: 0.8404\n",
            "Epoch 14/20\n",
            "391/391 [==============================] - 11s 28ms/step - loss: 7.3630e-05 - accuracy: 1.0000 - val_loss: 0.8963 - val_accuracy: 0.8407\n",
            "Epoch 15/20\n",
            "391/391 [==============================] - 10s 25ms/step - loss: 6.7526e-05 - accuracy: 1.0000 - val_loss: 0.9133 - val_accuracy: 0.8411\n",
            "Epoch 16/20\n",
            "391/391 [==============================] - 11s 28ms/step - loss: 4.4399e-05 - accuracy: 1.0000 - val_loss: 0.9399 - val_accuracy: 0.8415\n",
            "Epoch 17/20\n",
            "391/391 [==============================] - 10s 25ms/step - loss: 3.0770e-05 - accuracy: 1.0000 - val_loss: 0.9635 - val_accuracy: 0.8410\n",
            "Epoch 18/20\n",
            "391/391 [==============================] - 9s 23ms/step - loss: 2.9695e-05 - accuracy: 1.0000 - val_loss: 0.9903 - val_accuracy: 0.8405\n",
            "Epoch 19/20\n",
            "391/391 [==============================] - 10s 25ms/step - loss: 2.1524e-05 - accuracy: 1.0000 - val_loss: 1.0126 - val_accuracy: 0.8406\n",
            "Epoch 20/20\n",
            "391/391 [==============================] - 10s 25ms/step - loss: 2.2266e-05 - accuracy: 1.0000 - val_loss: 1.0364 - val_accuracy: 0.8399\n"
          ]
        }
      ]
    },
    {
      "cell_type": "code",
      "source": [
        "results = model.evaluate(x_test, y_test, verbose=2)\n",
        "print(results)"
      ],
      "metadata": {
        "colab": {
          "base_uri": "https://localhost:8080/"
        },
        "id": "HzQeNwvkyCWv",
        "outputId": "8e124804-0c92-4b0f-a062-c2f87bcd3b8a"
      },
      "execution_count": 67,
      "outputs": [
        {
          "output_type": "stream",
          "name": "stdout",
          "text": [
            "782/782 - 2s - loss: 1.0364 - accuracy: 0.8399 - 2s/epoch - 2ms/step\n",
            "[1.036352276802063, 0.8399199843406677]\n"
          ]
        }
      ]
    },
    {
      "cell_type": "markdown",
      "source": [
        "마지막 내가 쓴 리뷰로 평가 시켜보기"
      ],
      "metadata": {
        "id": "OMR6AVvfE_Fb"
      }
    },
    {
      "cell_type": "code",
      "source": [
        "import re\n",
        "\n",
        "review = \"This is really really good f a great movie\"\n",
        "review = re.sub(\"[^0-9a-zA-Z ]\", \"\", review).lower()\n",
        "\n",
        "review_encoding = []\n",
        "# 리뷰의 각 단어 대하여 반복한다.\n",
        "for w in review.split():\n",
        "\t\tindex = word_to_index.get(w, 2)\t# 딕셔너리에 없으면 2 반환\n",
        "\t\tif index <= 10000:\t\t# 단어의 개수는 10000이하\n",
        "\t\t\treview_encoding.append(index)\n",
        "\t\telse:\n",
        "\t\t\treview_encoding.append(word_to_index[\"<UNK>\"])\n",
        "\n",
        "# 2차원 리스트로 전달하여야 한다.\n",
        "test_input = pad_sequences([review_encoding], maxlen = 100)\n",
        "value = model.predict(test_input) # 예측\n",
        "if(value > 0.5):\n",
        "\tprint(\"긍정적인 리뷰입니다.\")\n",
        "else:\n",
        "\tprint(\"부정적인 리뷰입니다.\")\n"
      ],
      "metadata": {
        "colab": {
          "base_uri": "https://localhost:8080/"
        },
        "id": "y1mued190n5N",
        "outputId": "cb5ddfc5-e9c7-4910-d71a-142e6be298c8"
      },
      "execution_count": 74,
      "outputs": [
        {
          "output_type": "stream",
          "name": "stdout",
          "text": [
            "1/1 [==============================] - 0s 24ms/step\n",
            "긍정적인 리뷰입니다.\n"
          ]
        }
      ]
    },
    {
      "cell_type": "code",
      "source": [],
      "metadata": {
        "id": "4hLAO8vi1gRQ"
      },
      "execution_count": null,
      "outputs": []
    }
  ]
}